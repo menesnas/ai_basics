{
 "cells": [
  {
   "cell_type": "markdown",
   "id": "7706684c",
   "metadata": {},
   "source": [
    "## Polinomal regresyon\n",
    "- Bagimli degisken ile bagimsiz degiskenler arasindaki dogrusal olmayan iliskileri modellemek icin kullanilir. Bu, bagimsiz degiskenin polinomal bir fonksiyonunu kullanarak veri uzerinde bir egri olusturmayi icerir."
   ]
  },
  {
   "cell_type": "code",
   "execution_count": 1,
   "id": "97b4758f",
   "metadata": {},
   "outputs": [],
   "source": [
    "import numpy as np\n",
    "import pandas as pd\n",
    "import matplotlib.pyplot as plt\n",
    "import seaborn as sbn\n",
    "from sklearn.linear_model import LinearRegression\n",
    "from sklearn.metrics import r2_score\n",
    "from sklearn.preprocessing import PolynomialFeatures"
   ]
  },
  {
   "cell_type": "code",
   "execution_count": 2,
   "id": "c30632e1",
   "metadata": {},
   "outputs": [
    {
     "data": {
      "text/html": [
       "<div>\n",
       "<style scoped>\n",
       "    .dataframe tbody tr th:only-of-type {\n",
       "        vertical-align: middle;\n",
       "    }\n",
       "\n",
       "    .dataframe tbody tr th {\n",
       "        vertical-align: top;\n",
       "    }\n",
       "\n",
       "    .dataframe thead th {\n",
       "        text-align: right;\n",
       "    }\n",
       "</style>\n",
       "<table border=\"1\" class=\"dataframe\">\n",
       "  <thead>\n",
       "    <tr style=\"text-align: right;\">\n",
       "      <th></th>\n",
       "      <th>YearsExperience</th>\n",
       "      <th>HouseSales</th>\n",
       "    </tr>\n",
       "  </thead>\n",
       "  <tbody>\n",
       "    <tr>\n",
       "      <th>0</th>\n",
       "      <td>3.2</td>\n",
       "      <td>27</td>\n",
       "    </tr>\n",
       "    <tr>\n",
       "      <th>1</th>\n",
       "      <td>8.2</td>\n",
       "      <td>30</td>\n",
       "    </tr>\n",
       "    <tr>\n",
       "      <th>2</th>\n",
       "      <td>5.7</td>\n",
       "      <td>31</td>\n",
       "    </tr>\n",
       "    <tr>\n",
       "      <th>3</th>\n",
       "      <td>7.5</td>\n",
       "      <td>36</td>\n",
       "    </tr>\n",
       "    <tr>\n",
       "      <th>4</th>\n",
       "      <td>1.5</td>\n",
       "      <td>16</td>\n",
       "    </tr>\n",
       "  </tbody>\n",
       "</table>\n",
       "</div>"
      ],
      "text/plain": [
       "   YearsExperience  HouseSales\n",
       "0              3.2          27\n",
       "1              8.2          30\n",
       "2              5.7          31\n",
       "3              7.5          36\n",
       "4              1.5          16"
      ]
     },
     "execution_count": 2,
     "metadata": {},
     "output_type": "execute_result"
    }
   ],
   "source": [
    "data = pd.read_csv(\"experience_sale_data.csv\")\n",
    "data.head()"
   ]
  },
  {
   "cell_type": "code",
   "execution_count": 3,
   "id": "117f1512",
   "metadata": {},
   "outputs": [],
   "source": [
    "exp = \"YearsExperience\"\n",
    "sale = \"HouseSales\""
   ]
  },
  {
   "cell_type": "code",
   "execution_count": 4,
   "id": "5590731c",
   "metadata": {},
   "outputs": [
    {
     "data": {
      "text/html": [
       "<div>\n",
       "<style scoped>\n",
       "    .dataframe tbody tr th:only-of-type {\n",
       "        vertical-align: middle;\n",
       "    }\n",
       "\n",
       "    .dataframe tbody tr th {\n",
       "        vertical-align: top;\n",
       "    }\n",
       "\n",
       "    .dataframe thead th {\n",
       "        text-align: right;\n",
       "    }\n",
       "</style>\n",
       "<table border=\"1\" class=\"dataframe\">\n",
       "  <thead>\n",
       "    <tr style=\"text-align: right;\">\n",
       "      <th></th>\n",
       "      <th>YearsExperience</th>\n",
       "      <th>HouseSales</th>\n",
       "    </tr>\n",
       "  </thead>\n",
       "  <tbody>\n",
       "    <tr>\n",
       "      <th>count</th>\n",
       "      <td>15.000000</td>\n",
       "      <td>15.000000</td>\n",
       "    </tr>\n",
       "    <tr>\n",
       "      <th>mean</th>\n",
       "      <td>3.790000</td>\n",
       "      <td>22.666667</td>\n",
       "    </tr>\n",
       "    <tr>\n",
       "      <th>std</th>\n",
       "      <td>2.927346</td>\n",
       "      <td>9.802818</td>\n",
       "    </tr>\n",
       "    <tr>\n",
       "      <th>min</th>\n",
       "      <td>0.100000</td>\n",
       "      <td>6.000000</td>\n",
       "    </tr>\n",
       "    <tr>\n",
       "      <th>25%</th>\n",
       "      <td>1.250000</td>\n",
       "      <td>15.500000</td>\n",
       "    </tr>\n",
       "    <tr>\n",
       "      <th>50%</th>\n",
       "      <td>3.200000</td>\n",
       "      <td>22.000000</td>\n",
       "    </tr>\n",
       "    <tr>\n",
       "      <th>75%</th>\n",
       "      <td>6.225000</td>\n",
       "      <td>31.000000</td>\n",
       "    </tr>\n",
       "    <tr>\n",
       "      <th>max</th>\n",
       "      <td>8.500000</td>\n",
       "      <td>36.000000</td>\n",
       "    </tr>\n",
       "  </tbody>\n",
       "</table>\n",
       "</div>"
      ],
      "text/plain": [
       "       YearsExperience  HouseSales\n",
       "count        15.000000   15.000000\n",
       "mean          3.790000   22.666667\n",
       "std           2.927346    9.802818\n",
       "min           0.100000    6.000000\n",
       "25%           1.250000   15.500000\n",
       "50%           3.200000   22.000000\n",
       "75%           6.225000   31.000000\n",
       "max           8.500000   36.000000"
      ]
     },
     "execution_count": 4,
     "metadata": {},
     "output_type": "execute_result"
    }
   ],
   "source": [
    "data.describe()"
   ]
  },
  {
   "cell_type": "code",
   "execution_count": 5,
   "id": "97480967",
   "metadata": {},
   "outputs": [
    {
     "data": {
      "text/plain": [
       "(array([2., 2., 2., 0., 0., 2., 1., 1., 0., 0., 1., 1., 0., 1., 2.]),\n",
       " array([0.1 , 0.66, 1.22, 1.78, 2.34, 2.9 , 3.46, 4.02, 4.58, 5.14, 5.7 ,\n",
       "        6.26, 6.82, 7.38, 7.94, 8.5 ]),\n",
       " <BarContainer object of 15 artists>)"
      ]
     },
     "execution_count": 5,
     "metadata": {},
     "output_type": "execute_result"
    },
    {
     "data": {
      "image/png": "[encoded data removed]",
      "text/plain": [
       "<Figure size 432x288 with 1 Axes>"
      ]
     },
     "metadata": {
      "needs_background": "light"
     },
     "output_type": "display_data"
    }
   ],
   "source": [
    "plt.hist(data[exp],bins=15)"
   ]
  },
  {
   "cell_type": "code",
   "execution_count": 6,
   "id": "298791fe",
   "metadata": {},
   "outputs": [
    {
     "data": {
      "text/plain": [
       "<AxesSubplot:xlabel='YearsExperience', ylabel='HouseSales'>"
      ]
     },
     "execution_count": 6,
     "metadata": {},
     "output_type": "execute_result"
    },
    {
     "data": {
      "image/png": "[encoded data removed]",
      "text/plain": [
       "<Figure size 432x288 with 1 Axes>"
      ]
     },
     "metadata": {
      "needs_background": "light"
     },
     "output_type": "display_data"
    }
   ],
   "source": [
    "sbn.scatterplot(x=data[exp],y=data[sale])"
   ]
  },
  {
   "cell_type": "code",
   "execution_count": 7,
   "id": "7c0da094",
   "metadata": {},
   "outputs": [],
   "source": [
    "reg = LinearRegression().fit(data[exp].values.reshape(-1,1),data[sale])\n",
    "\n",
    "## Once lineer reg ile deneme yaptik."
   ]
  },
  {
   "cell_type": "code",
   "execution_count": 8,
   "id": "eeee0465",
   "metadata": {},
   "outputs": [
    {
     "name": "stderr",
     "output_type": "stream",
     "text": [
      "C:\\Users\\menes\\anaconda3\\lib\\site-packages\\sklearn\\base.py:443: UserWarning: X has feature names, but LinearRegression was fitted without feature names\n",
      "  warnings.warn(\n"
     ]
    },
    {
     "data": {
      "text/plain": [
       "0.8137110174932514"
      ]
     },
     "execution_count": 8,
     "metadata": {},
     "output_type": "execute_result"
    }
   ],
   "source": [
    "reg.score(data[[exp]],data[[sale]])"
   ]
  },
  {
   "cell_type": "code",
   "execution_count": 9,
   "id": "9e612241",
   "metadata": {},
   "outputs": [
    {
     "name": "stdout",
     "output_type": "stream",
     "text": [
      "coef ->  [3.02073001]\n",
      "intercept ->  11.218099929705241\n"
     ]
    }
   ],
   "source": [
    "print(\"coef -> \" , reg.coef_)\n",
    "print(\"intercept -> \" , reg.intercept_)"
   ]
  },
  {
   "cell_type": "code",
   "execution_count": 10,
   "id": "7d16bbd4",
   "metadata": {},
   "outputs": [
    {
     "name": "stderr",
     "output_type": "stream",
     "text": [
      "C:\\Users\\menes\\anaconda3\\lib\\site-packages\\sklearn\\base.py:443: UserWarning: X has feature names, but LinearRegression was fitted without feature names\n",
      "  warnings.warn(\n"
     ]
    },
    {
     "data": {
      "text/plain": [
       "array([20.88443596, 35.98808601, 28.43626099, 33.873575  , 15.74919494,\n",
       "       14.54090294, 31.6080275 , 36.89430501, 20.88443596, 22.99894697,\n",
       "       11.52017293, 14.23882994, 12.42639193, 24.50931197, 15.44712194])"
      ]
     },
     "execution_count": 10,
     "metadata": {},
     "output_type": "execute_result"
    }
   ],
   "source": [
    "pred = reg.predict(data[[exp]])\n",
    "pred"
   ]
  },
  {
   "cell_type": "code",
   "execution_count": 11,
   "id": "77dd3a65",
   "metadata": {},
   "outputs": [
    {
     "data": {
      "text/plain": [
       "0.8137110174932514"
      ]
     },
     "execution_count": 11,
     "metadata": {},
     "output_type": "execute_result"
    }
   ],
   "source": [
    "r2_score_linear = r2_score(data[sale], pred)\n",
    "r2_score_linear"
   ]
  },
  {
   "cell_type": "code",
   "execution_count": 12,
   "id": "d06fd3bb",
   "metadata": {},
   "outputs": [
    {
     "data": {
      "text/plain": [
       "[<matplotlib.lines.Line2D at 0x1f30eac3f40>]"
      ]
     },
     "execution_count": 12,
     "metadata": {},
     "output_type": "execute_result"
    },
    {
     "data": {
      "image/png": "[encoded data removed]",
      "text/plain": [
       "<Figure size 432x288 with 1 Axes>"
      ]
     },
     "metadata": {
      "needs_background": "light"
     },
     "output_type": "display_data"
    }
   ],
   "source": [
    "plt.scatter(x = data[exp], \n",
    "                y = data[sale])\n",
    "plt.plot(data[exp], pred, color='purple')"
   ]
  },
  {
   "cell_type": "code",
   "execution_count": 13,
   "id": "fb4f4f31",
   "metadata": {},
   "outputs": [
    {
     "data": {
      "text/plain": [
       "array([[1.00000e+00, 3.20000e+00, 1.02400e+01],\n",
       "       [1.00000e+00, 8.20000e+00, 6.72400e+01],\n",
       "       [1.00000e+00, 5.70000e+00, 3.24900e+01],\n",
       "       [1.00000e+00, 7.50000e+00, 5.62500e+01],\n",
       "       [1.00000e+00, 1.50000e+00, 2.25000e+00],\n",
       "       [1.00000e+00, 1.10000e+00, 1.21000e+00],\n",
       "       [1.00000e+00, 6.75000e+00, 4.55625e+01],\n",
       "       [1.00000e+00, 8.50000e+00, 7.22500e+01],\n",
       "       [1.00000e+00, 3.20000e+00, 1.02400e+01],\n",
       "       [1.00000e+00, 3.90000e+00, 1.52100e+01],\n",
       "       [1.00000e+00, 1.00000e-01, 1.00000e-02],\n",
       "       [1.00000e+00, 1.00000e+00, 1.00000e+00],\n",
       "       [1.00000e+00, 4.00000e-01, 1.60000e-01],\n",
       "       [1.00000e+00, 4.40000e+00, 1.93600e+01],\n",
       "       [1.00000e+00, 1.40000e+00, 1.96000e+00]])"
      ]
     },
     "execution_count": 13,
     "metadata": {},
     "output_type": "execute_result"
    }
   ],
   "source": [
    "### PolynomialFeatures(2) ile 2. derece bir denklem oldugunu belirttik.\n",
    "poly_model = PolynomialFeatures(2)\n",
    "tr_data = poly_model.fit_transform(data[[exp]],data[[sale]]) \n",
    "### fit_transform ile egitim ve veriler uzerinde polinomal donusum gerceklestirilir.\n",
    "tr_data"
   ]
  },
  {
   "cell_type": "code",
   "execution_count": 14,
   "id": "48122a81",
   "metadata": {},
   "outputs": [],
   "source": [
    "quadratic_model = LinearRegression().fit(tr_data, data[[sale]])"
   ]
  },
  {
   "cell_type": "code",
   "execution_count": 15,
   "id": "f11b6f11",
   "metadata": {},
   "outputs": [
    {
     "name": "stdout",
     "output_type": "stream",
     "text": [
      "coef quadratic ->  [[ 0.          7.06439652 -0.4721974 ]]\n",
      "intercept quadratic ->  [6.45196075]\n"
     ]
    }
   ],
   "source": [
    "print(\"coef quadratic -> \", quadratic_model.coef_)\n",
    "print(\"intercept quadratic -> \",quadratic_model.intercept_)"
   ]
  },
  {
   "cell_type": "code",
   "execution_count": 16,
   "id": "2d975bc2",
   "metadata": {},
   "outputs": [
    {
     "data": {
      "text/plain": [
       "array([[24.22272827],\n",
       "       [32.62945923],\n",
       "       [31.37732748],\n",
       "       [32.87383106],\n",
       "       [15.98611139],\n",
       "       [13.65143807],\n",
       "       [32.62214335],\n",
       "       [32.38306922],\n",
       "       [24.22272827],\n",
       "       [26.82098477],\n",
       "       [ 7.15367843],\n",
       "       [13.04415987],\n",
       "       [ 9.20216778],\n",
       "       [28.39356383],\n",
       "       [15.41660898]])"
      ]
     },
     "execution_count": 16,
     "metadata": {},
     "output_type": "execute_result"
    }
   ],
   "source": [
    "pred_quad = quadratic_model.predict(tr_data)\n",
    "pred_quad"
   ]
  },
  {
   "cell_type": "code",
   "execution_count": 17,
   "id": "ff5cadd4",
   "metadata": {},
   "outputs": [
    {
     "data": {
      "text/plain": [
       "0.9073907971182074"
      ]
     },
     "execution_count": 17,
     "metadata": {},
     "output_type": "execute_result"
    }
   ],
   "source": [
    "r2_score_quadratic = r2_score(data[sale], \n",
    "                              pred_quad)\n",
    "r2_score_quadratic"
   ]
  },
  {
   "cell_type": "code",
   "execution_count": 18,
   "id": "b406a3bf",
   "metadata": {},
   "outputs": [],
   "source": [
    "temp = []\n",
    "for x in range(len(data[exp])):\n",
    "    temp.append([data[exp][x],pred_quad[x]])\n",
    "temp.sort(key=lambda x: x[0])\n",
    "\n",
    "x = []\n",
    "y_pred = []\n",
    "\n",
    "for a in temp:\n",
    "    x.append(a[0])\n",
    "    y_pred.append(a[1])"
   ]
  },
  {
   "cell_type": "code",
   "execution_count": 19,
   "id": "befc8ab1",
   "metadata": {},
   "outputs": [
    {
     "data": {
      "text/plain": [
       "[<matplotlib.lines.Line2D at 0x1f311ee94c0>]"
      ]
     },
     "execution_count": 19,
     "metadata": {},
     "output_type": "execute_result"
    },
    {
     "data": {
      "image/png": "[encoded data removed]",
      "text/plain": [
       "<Figure size 432x288 with 1 Axes>"
      ]
     },
     "metadata": {
      "needs_background": "light"
     },
     "output_type": "display_data"
    }
   ],
   "source": [
    "plt.scatter(x = data[exp],y = data[sale],color=\"black\")\n",
    "\n",
    "plt.plot(x,y_pred,color='red')"
   ]
  },
  {
   "cell_type": "code",
   "execution_count": 20,
   "id": "01a9150e",
   "metadata": {},
   "outputs": [
    {
     "data": {
      "text/plain": [
       "<matplotlib.collections.PathCollection at 0x1f311f4a550>"
      ]
     },
     "execution_count": 20,
     "metadata": {},
     "output_type": "execute_result"
    },
    {
     "data": {
      "image/png": "[encoded data removed]",
      "text/plain": [
       "<Figure size 432x288 with 1 Axes>"
      ]
     },
     "metadata": {
      "needs_background": "light"
     },
     "output_type": "display_data"
    }
   ],
   "source": [
    "plt.scatter(x = data[exp], \n",
    "                y = pred_quad,color=\"red\",edgecolors='green')"
   ]
  },
  {
   "cell_type": "code",
   "execution_count": 21,
   "id": "b72ceb2c",
   "metadata": {},
   "outputs": [
    {
     "data": {
      "text/plain": [
       "<matplotlib.collections.PathCollection at 0x1f311f9eb80>"
      ]
     },
     "execution_count": 21,
     "metadata": {},
     "output_type": "execute_result"
    },
    {
     "data": {
      "image/png": "[encoded data removed]",
      "text/plain": [
       "<Figure size 432x288 with 1 Axes>"
      ]
     },
     "metadata": {
      "needs_background": "light"
     },
     "output_type": "display_data"
    }
   ],
   "source": [
    "plt.scatter(x = data[exp], y = pred_quad,color=\"blue\",edgecolors='red')\n",
    "plt.scatter(x=data[exp],y=data[sale],color=\"white\",edgecolors=\"black\")"
   ]
  },
  {
   "cell_type": "code",
   "execution_count": null,
   "id": "f9f8a972",
   "metadata": {},
   "outputs": [],
   "source": []
  }
 ],
 "metadata": {
  "kernelspec": {
   "display_name": "Python 3 (ipykernel)",
   "language": "python",
   "name": "python3"
  },
  "language_info": {
   "codemirror_mode": {
    "name": "ipython",
    "version": 3
   },
   "file_extension": ".py",
   "mimetype": "text/x-python",
   "name": "python",
   "nbconvert_exporter": "python",
   "pygments_lexer": "ipython3",
   "version": "3.9.12"
  }
 },
 "nbformat": 4,
 "nbformat_minor": 5
}
