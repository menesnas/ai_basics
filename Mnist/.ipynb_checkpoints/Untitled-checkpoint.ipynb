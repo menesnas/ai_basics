{
 "cells": [
  {
   "cell_type": "code",
   "execution_count": 227,
   "id": "6bc87435",
   "metadata": {},
   "outputs": [],
   "source": [
    "import numpy as np\n",
    "import pandas as pd\n",
    "import matplotlib.pyplot as plt\n",
    "import seaborn as sbn\n",
    "import tensorflow as tf\n",
    "from sklearn.model_selection import train_test_split\n",
    "from sklearn.metrics import accuracy_score\n",
    "from tensorflow.keras.datasets import fashion_mnist\n",
    "from sklearn.preprocessing import StandardScaler\n",
    "from tensorflow.keras.models import Sequential,load_model\n",
    "from tensorflow.keras.layers import Dense,Flatten,Dropout\n",
    "from tensorflow.keras.callbacks import EarlyStopping\n",
    "from tensorflow.keras.utils import to_categorical, plot_model\n",
    "\n",
    "import warnings\n",
    "from warnings import filterwarnings\n",
    "warnings.filterwarnings(\"ignore\",category=DeprecationWarning)\n",
    "warnings.filterwarnings(\"ignore\",category=FutureWarning)\n",
    "warnings.filterwarnings(\"ignore\",category=UserWarning)\n",
    "filterwarnings('ignore')"
   ]
  },
  {
   "cell_type": "code",
   "execution_count": 242,
   "id": "a1b62157",
   "metadata": {},
   "outputs": [],
   "source": [
    "# Fashion MNIST veri setini yükleme\n",
    "(X_train, y_train), (X_test, y_test) = fashion_mnist.load_data()"
   ]
  },
  {
   "cell_type": "code",
   "execution_count": 243,
   "id": "0c1d75ba",
   "metadata": {},
   "outputs": [
    {
     "name": "stdout",
     "output_type": "stream",
     "text": [
      "Eğitim seti boyutu : (60000, 28, 28) (60000,)\n",
      "Test seti boyutu : (10000, 28, 28) (10000,)\n"
     ]
    }
   ],
   "source": [
    "print(\"Eğitim seti boyutu :\",X_train.shape,y_train.shape)\n",
    "print(\"Test seti boyutu :\",X_test.shape,y_test.shape)"
   ]
  },
  {
   "cell_type": "code",
   "execution_count": 244,
   "id": "5dc7a712",
   "metadata": {},
   "outputs": [
    {
     "data": {
      "text/plain": [
       "10"
      ]
     },
     "execution_count": 244,
     "metadata": {},
     "output_type": "execute_result"
    }
   ],
   "source": [
    "num_labels = len(np.unique(y_train))\n",
    "num_labels\n",
    "# 10 sınıf mevcut"
   ]
  },
  {
   "cell_type": "code",
   "execution_count": 245,
   "id": "e59e6d82",
   "metadata": {
    "scrolled": true
   },
   "outputs": [
    {
     "data": {
      "text/plain": [
       "<matplotlib.image.AxesImage at 0x2cd573e8730>"
      ]
     },
     "execution_count": 245,
     "metadata": {},
     "output_type": "execute_result"
    },
    {
     "data": {
      "image/png": "[encoded data removed]",
      "text/plain": [
       "<Figure size 216x216 with 1 Axes>"
      ]
     },
     "metadata": {
      "needs_background": "light"
     },
     "output_type": "display_data"
    }
   ],
   "source": [
    "plt.figure(figsize=(3,3))\n",
    "plt.imshow(X_train[6],cmap = \"gray\")"
   ]
  },
  {
   "cell_type": "code",
   "execution_count": 246,
   "id": "19ed5067",
   "metadata": {},
   "outputs": [
    {
     "data": {
      "image/png": "[encoded data removed]",
      "text/plain": [
       "<Figure size 720x720 with 10 Axes>"
      ]
     },
     "metadata": {
      "needs_background": "light"
     },
     "output_type": "display_data"
    }
   ],
   "source": [
    "def gorsel_getir(data):\n",
    "  plt.figure(figsize=(10,10))\n",
    "  for n in range(10):\n",
    "    idx = np.random.randint(len(X_train))\n",
    "    ax = plt.subplot(5,5,n+1)\n",
    "    plt.imshow(X_train[idx],cmap=\"gray\")\n",
    "    plt.axis('off')\n",
    "gorsel_getir(X_train)"
   ]
  },
  {
   "cell_type": "code",
   "execution_count": 247,
   "id": "2c94192d",
   "metadata": {},
   "outputs": [
    {
     "name": "stdout",
     "output_type": "stream",
     "text": [
      "Class :  0\n",
      "Class :  1\n",
      "Class :  2\n",
      "Class :  3\n",
      "Class :  4\n",
      "Class :  5\n",
      "Class :  6\n",
      "Class :  7\n",
      "Class :  8\n",
      "Class :  9\n"
     ]
    }
   ],
   "source": [
    "for classes in np.unique(y_train):\n",
    "    print(\"Class : \",classes)"
   ]
  },
  {
   "cell_type": "code",
   "execution_count": 248,
   "id": "ef36bec9",
   "metadata": {},
   "outputs": [],
   "source": [
    "## 10 sınıf oldugunu belirtme\n",
    "y_train = to_categorical(y_train,10)\n",
    "y_test = to_categorical(y_test,10)"
   ]
  },
  {
   "cell_type": "code",
   "execution_count": 249,
   "id": "40f92bcf",
   "metadata": {},
   "outputs": [],
   "source": [
    "# Veriyi ölçeklendirme\n",
    "scaler = StandardScaler()\n",
    "X_train_flat = X_train.reshape(-1, 28*28)\n",
    "X_test_flat = X_test.reshape(-1, 28*28)\n",
    "X_train_scaled = scaler.fit_transform(X_train_flat)\n",
    "X_test_scaled = scaler.transform(X_test_flat)"
   ]
  },
  {
   "cell_type": "code",
   "execution_count": 250,
   "id": "b3671d19",
   "metadata": {},
   "outputs": [],
   "source": [
    "# train/test olarak ayırma\n",
    "X_train, X_val, y_train, y_val = train_test_split(X_train_scaled, y_train, test_size=0.3, random_state=42)"
   ]
  },
  {
   "cell_type": "code",
   "execution_count": 251,
   "id": "a84a6c14",
   "metadata": {},
   "outputs": [
    {
     "name": "stdout",
     "output_type": "stream",
     "text": [
      "Epoch 1/10\n",
      "2625/2625 [==============================] - 3s 1ms/step - loss: 0.8171 - accuracy: 0.7157 - val_loss: 0.4684 - val_accuracy: 0.8333\n",
      "Epoch 2/10\n",
      "2625/2625 [==============================] - 3s 962us/step - loss: 0.6295 - accuracy: 0.7711 - val_loss: 0.4424 - val_accuracy: 0.8423\n",
      "Epoch 3/10\n",
      "2625/2625 [==============================] - 3s 982us/step - loss: 0.5936 - accuracy: 0.7820 - val_loss: 0.4359 - val_accuracy: 0.8441\n",
      "Epoch 4/10\n",
      "2625/2625 [==============================] - 3s 1ms/step - loss: 0.5743 - accuracy: 0.7882 - val_loss: 0.4243 - val_accuracy: 0.8508\n",
      "Epoch 5/10\n",
      "2625/2625 [==============================] - 2s 938us/step - loss: 0.5626 - accuracy: 0.7939 - val_loss: 0.4255 - val_accuracy: 0.8477\n",
      "Epoch 6/10\n",
      "2625/2625 [==============================] - 2s 930us/step - loss: 0.5483 - accuracy: 0.7973 - val_loss: 0.4185 - val_accuracy: 0.8527\n",
      "Epoch 7/10\n",
      "2625/2625 [==============================] - 2s 937us/step - loss: 0.5424 - accuracy: 0.7998 - val_loss: 0.4208 - val_accuracy: 0.8520\n",
      "Epoch 8/10\n",
      "2625/2625 [==============================] - 3s 950us/step - loss: 0.5302 - accuracy: 0.8038 - val_loss: 0.4185 - val_accuracy: 0.8509\n",
      "Epoch 9/10\n",
      "2625/2625 [==============================] - 3s 1ms/step - loss: 0.5296 - accuracy: 0.8060 - val_loss: 0.4227 - val_accuracy: 0.8543\n",
      "Epoch 10/10\n",
      "2625/2625 [==============================] - 3s 956us/step - loss: 0.5278 - accuracy: 0.8054 - val_loss: 0.4135 - val_accuracy: 0.8537\n"
     ]
    }
   ],
   "source": [
    "def egitim():\n",
    "    model = Sequential()\n",
    "    model.add(Dense(30, activation=\"relu\", input_shape=(28*28,)))  # input_shape belirtiliyor\n",
    "    model.add(Dropout(0.5))\n",
    "    model.add(Dense(10, activation=\"softmax\"))\n",
    "    \n",
    "    model.compile(optimizer=\"adam\", loss=\"categorical_crossentropy\", metrics=['accuracy'])\n",
    "\n",
    "    early_stopping = EarlyStopping(monitor='val_loss', patience=2, restore_best_weights=True)\n",
    "    history = model.fit(X_train, y_train, epochs=10, batch_size=16, validation_data=(X_val, y_val), callbacks=[early_stopping])\n",
    "\n",
    "    return model, history\n",
    "\n",
    "# Modeli eğitin\n",
    "model, history = egitim()"
   ]
  },
  {
   "cell_type": "code",
   "execution_count": 252,
   "id": "2a0458f7",
   "metadata": {},
   "outputs": [
    {
     "name": "stdout",
     "output_type": "stream",
     "text": [
      "Model: \"sequential_15\"\n",
      "_________________________________________________________________\n",
      " Layer (type)                Output Shape              Param #   \n",
      "=================================================================\n",
      " dense_29 (Dense)            (None, 30)                23550     \n",
      "                                                                 \n",
      " dropout_1 (Dropout)         (None, 30)                0         \n",
      "                                                                 \n",
      " dense_30 (Dense)            (None, 10)                310       \n",
      "                                                                 \n",
      "=================================================================\n",
      "Total params: 23,860\n",
      "Trainable params: 23,860\n",
      "Non-trainable params: 0\n",
      "_________________________________________________________________\n"
     ]
    }
   ],
   "source": [
    "model.summary()"
   ]
  },
  {
   "cell_type": "code",
   "execution_count": 253,
   "id": "a626dc27",
   "metadata": {},
   "outputs": [
    {
     "name": "stdout",
     "output_type": "stream",
     "text": [
      "563/563 [==============================] - 0s 661us/step - loss: 0.4135 - accuracy: 0.8537\n",
      "Test Loss: 0.4134543836116791\n",
      "Test Accuracy: 0.8536666631698608\n"
     ]
    }
   ],
   "source": [
    "loss, accuracy = model.evaluate(X_val, y_val)\n",
    "print(f'Test Loss: {loss}')\n",
    "print(f'Test Accuracy: {accuracy}')"
   ]
  },
  {
   "cell_type": "code",
   "execution_count": 262,
   "id": "8e7d895f",
   "metadata": {},
   "outputs": [
    {
     "data": {
      "image/png": "[encoded data removed]",
      "text/plain": [
       "<Figure size 432x288 with 1 Axes>"
      ]
     },
     "metadata": {
      "needs_background": "light"
     },
     "output_type": "display_data"
    },
    {
     "data": {
      "image/png": "[encoded data removed]",
      "text/plain": [
       "<Figure size 432x288 with 1 Axes>"
      ]
     },
     "metadata": {
      "needs_background": "light"
     },
     "output_type": "display_data"
    }
   ],
   "source": [
    "def grafik1():\n",
    "    plt.plot(history.history['loss'], label='Training Loss')\n",
    "    plt.plot(history.history['val_loss'], label='Validation Loss')\n",
    "    plt.xlabel('Epochs')\n",
    "    plt.ylabel('Loss')\n",
    "    plt.legend()\n",
    "    plt.show()\n",
    "\n",
    "\n",
    "    plt.plot(history.history['accuracy'], label='Training Accuracy')\n",
    "    plt.plot(history.history['val_accuracy'], label='Validation Accuracy')\n",
    "    plt.xlabel('Epochs')\n",
    "    plt.ylabel('Accuracy')\n",
    "    plt.legend()\n",
    "    plt.show()\n",
    "grafik1()"
   ]
  },
  {
   "cell_type": "markdown",
   "id": "1ff7fa36",
   "metadata": {},
   "source": [
    "#### Dropout ve earlystopping olmadan \n",
    "- ek olarak 1.katman 30 nörondan 10'a düşürdüm"
   ]
  },
  {
   "cell_type": "code",
   "execution_count": 256,
   "id": "c6876f49",
   "metadata": {},
   "outputs": [
    {
     "name": "stdout",
     "output_type": "stream",
     "text": [
      "Epoch 1/10\n",
      "2625/2625 [==============================] - 3s 998us/step - loss: 0.5656 - accuracy: 0.8013 - val_loss: 0.4604 - val_accuracy: 0.8357\n",
      "Epoch 2/10\n",
      "2625/2625 [==============================] - 3s 969us/step - loss: 0.4284 - accuracy: 0.8462 - val_loss: 0.4204 - val_accuracy: 0.8513\n",
      "Epoch 3/10\n",
      "2625/2625 [==============================] - 3s 975us/step - loss: 0.4027 - accuracy: 0.8562 - val_loss: 0.4322 - val_accuracy: 0.8478\n",
      "Epoch 4/10\n",
      "2625/2625 [==============================] - 2s 921us/step - loss: 0.3878 - accuracy: 0.8610 - val_loss: 0.4304 - val_accuracy: 0.8490\n",
      "Epoch 5/10\n",
      "2625/2625 [==============================] - 3s 981us/step - loss: 0.3774 - accuracy: 0.8655 - val_loss: 0.4210 - val_accuracy: 0.8529\n",
      "Epoch 6/10\n",
      "2625/2625 [==============================] - 3s 965us/step - loss: 0.3676 - accuracy: 0.8675 - val_loss: 0.4280 - val_accuracy: 0.8511\n",
      "Epoch 7/10\n",
      "2625/2625 [==============================] - 3s 987us/step - loss: 0.3601 - accuracy: 0.8693 - val_loss: 0.4077 - val_accuracy: 0.8614\n",
      "Epoch 8/10\n",
      "2625/2625 [==============================] - 3s 998us/step - loss: 0.3550 - accuracy: 0.8698 - val_loss: 0.4200 - val_accuracy: 0.8591\n",
      "Epoch 9/10\n",
      "2625/2625 [==============================] - 3s 1ms/step - loss: 0.3494 - accuracy: 0.8728 - val_loss: 0.4306 - val_accuracy: 0.8563\n",
      "Epoch 10/10\n",
      "2625/2625 [==============================] - 3s 1ms/step - loss: 0.3438 - accuracy: 0.8760 - val_loss: 0.4283 - val_accuracy: 0.8569\n"
     ]
    }
   ],
   "source": [
    "model1 = Sequential()\n",
    "model1.add(Dense(10, activation=\"relu\", input_shape=(28*28,)))  # input_shape belirtiliyor\n",
    "model1.add(Dense(10, activation=\"softmax\"))\n",
    "model1.compile(optimizer=\"adam\", loss=\"categorical_crossentropy\", metrics=['accuracy'])\n",
    "history1 = model1.fit(X_train, y_train, epochs=10, batch_size=16, validation_data=(X_val, y_val))\n"
   ]
  },
  {
   "cell_type": "code",
   "execution_count": 260,
   "id": "487940f8",
   "metadata": {},
   "outputs": [
    {
     "name": "stdout",
     "output_type": "stream",
     "text": [
      "563/563 [==============================] - 0s 627us/step - loss: 0.4283 - accuracy: 0.8569\n",
      "Test Loss: 0.428306519985199\n",
      "Test Accuracy: 0.8569444417953491\n"
     ]
    }
   ],
   "source": [
    "loss, accuracy = model1.evaluate(X_val, y_val)\n",
    "print(f'Test Loss: {loss}')\n",
    "print(f'Test Accuracy: {accuracy}')"
   ]
  },
  {
   "cell_type": "code",
   "execution_count": 263,
   "id": "ce15fa2e",
   "metadata": {},
   "outputs": [
    {
     "data": {
      "image/png": "[encoded data removed]",
      "text/plain": [
       "<Figure size 432x288 with 1 Axes>"
      ]
     },
     "metadata": {
      "needs_background": "light"
     },
     "output_type": "display_data"
    },
    {
     "data": {
      "image/png": "[encoded data removed]",
      "text/plain": [
       "<Figure size 432x288 with 1 Axes>"
      ]
     },
     "metadata": {
      "needs_background": "light"
     },
     "output_type": "display_data"
    }
   ],
   "source": [
    "def grafik2():\n",
    "    plt.plot(history1.history['loss'], label='Training Loss')\n",
    "    plt.plot(history1.history['val_loss'], label='Validation Loss')\n",
    "    plt.xlabel('Epochs')\n",
    "    plt.ylabel('Loss')\n",
    "    plt.legend()\n",
    "    plt.show()\n",
    "\n",
    "\n",
    "    plt.plot(history1.history['accuracy'], label='Training Accuracy')\n",
    "    plt.plot(history1.history['val_accuracy'], label='Validation Accuracy')\n",
    "    plt.xlabel('Epochs')\n",
    "    plt.ylabel('Accuracy')\n",
    "    plt.legend()\n",
    "    plt.show()\n",
    "grafik2()"
   ]
  },
  {
   "cell_type": "markdown",
   "id": "069e02e2",
   "metadata": {},
   "source": [
    "grafik1 ve grafik2 değerlerine bakıldığında :\n",
    "dropout kullanılan ve katmandaki nöron sayısının 30 olduğu model validation değerlerinde daha kararlı sonuçlara sahip.\n",
    "model1'e bakıldığında ise overfitting gözükmekte. Training doğruluk oranı %87'nin üzerine çıkarken, validation doğruluk oranı maksimum %86'ya çıkmış olup epoch sayısı arttıkça doğruluk düşmüştür. Bu da model1'in validation verileri üzerinde diğer model kadar iyi performans gösteremediğini açıklar."
   ]
  },
  {
   "cell_type": "code",
   "execution_count": 312,
   "id": "58f1e66f",
   "metadata": {},
   "outputs": [
    {
     "data": {
      "text/plain": [
       "10934"
      ]
     },
     "execution_count": 312,
     "metadata": {},
     "output_type": "execute_result"
    }
   ],
   "source": [
    "import random\n",
    "random = random.randint(0,X_val.shape[0])\n",
    "random"
   ]
  },
  {
   "cell_type": "code",
   "execution_count": 313,
   "id": "b95eab41",
   "metadata": {},
   "outputs": [],
   "source": [
    "test_image = X_val[random]"
   ]
  },
  {
   "cell_type": "code",
   "execution_count": 314,
   "id": "f67033f0",
   "metadata": {},
   "outputs": [
    {
     "data": {
      "text/plain": [
       "array([0., 1., 0., 0., 0., 0., 0., 0., 0., 0.], dtype=float32)"
      ]
     },
     "execution_count": 314,
     "metadata": {},
     "output_type": "execute_result"
    }
   ],
   "source": [
    "y_val[random]"
   ]
  },
  {
   "cell_type": "code",
   "execution_count": 315,
   "id": "793010f3",
   "metadata": {},
   "outputs": [
    {
     "data": {
      "text/plain": [
       "<matplotlib.image.AxesImage at 0x2cd55a9b520>"
      ]
     },
     "execution_count": 315,
     "metadata": {},
     "output_type": "execute_result"
    },
    {
     "data": {
      "image/png": "[encoded data removed]",
      "text/plain": [
       "<Figure size 432x288 with 1 Axes>"
      ]
     },
     "metadata": {
      "needs_background": "light"
     },
     "output_type": "display_data"
    }
   ],
   "source": [
    "plt.imshow(test_image.reshape(28,28),cmap='gray')"
   ]
  },
  {
   "cell_type": "code",
   "execution_count": 316,
   "id": "99732c62",
   "metadata": {},
   "outputs": [
    {
     "name": "stdout",
     "output_type": "stream",
     "text": [
      "1/1 [==============================] - 0s 16ms/step\n"
     ]
    },
    {
     "data": {
      "text/plain": [
       "array([[2.1334563e-08, 9.9999785e-01, 2.6374218e-09, 2.1237288e-06,\n",
       "        3.8849124e-09, 5.8787948e-09, 6.4257039e-10, 5.8771835e-23,\n",
       "        1.0621609e-13, 4.3599378e-26]], dtype=float32)"
      ]
     },
     "execution_count": 316,
     "metadata": {},
     "output_type": "execute_result"
    }
   ],
   "source": [
    "test_data = X_val[random].reshape(1, 28*28)\n",
    "pred = model.predict(test_data)\n",
    "pred"
   ]
  },
  {
   "cell_type": "code",
   "execution_count": 317,
   "id": "06fc76ad",
   "metadata": {},
   "outputs": [
    {
     "name": "stdout",
     "output_type": "stream",
     "text": [
      "Tahmin sınıfı :  1\n",
      "Gerçek sınıf : 1\n"
     ]
    }
   ],
   "source": [
    "predicted_classes = np.argmax(pred)\n",
    "print(\"Tahmin sınıfı : \",predicted_classes)\n",
    "print(\"Gerçek sınıf :\",y_val[random].argmax())"
   ]
  },
  {
   "cell_type": "code",
   "execution_count": null,
   "id": "82a2add2",
   "metadata": {},
   "outputs": [],
   "source": []
  }
 ],
 "metadata": {
  "kernelspec": {
   "display_name": "Python 3 (ipykernel)",
   "language": "python",
   "name": "python3"
  },
  "language_info": {
   "codemirror_mode": {
    "name": "ipython",
    "version": 3
   },
   "file_extension": ".py",
   "mimetype": "text/x-python",
   "name": "python",
   "nbconvert_exporter": "python",
   "pygments_lexer": "ipython3",
   "version": "3.9.12"
  }
 },
 "nbformat": 4,
 "nbformat_minor": 5
}
