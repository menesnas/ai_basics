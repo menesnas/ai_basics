{
 "cells": [
  {
   "cell_type": "code",
   "execution_count": 1,
   "id": "6bc87435",
   "metadata": {},
   "outputs": [],
   "source": [
    "import numpy as np\n",
    "import pandas as pd\n",
    "import matplotlib.pyplot as plt\n",
    "import seaborn as sbn\n",
    "import tensorflow as tf\n",
    "from sklearn.model_selection import train_test_split\n",
    "from sklearn.metrics import accuracy_score\n",
    "from tensorflow.keras.datasets import fashion_mnist\n",
    "from sklearn.preprocessing import StandardScaler\n",
    "from tensorflow.keras.models import Sequential,load_model\n",
    "from tensorflow.keras.layers import Dense,Flatten,Dropout\n",
    "from tensorflow.keras.callbacks import EarlyStopping\n",
    "from tensorflow.keras.utils import to_categorical, plot_model\n",
    "\n",
    "import warnings\n",
    "from warnings import filterwarnings\n",
    "warnings.filterwarnings(\"ignore\",category=DeprecationWarning)\n",
    "warnings.filterwarnings(\"ignore\",category=FutureWarning)\n",
    "warnings.filterwarnings(\"ignore\",category=UserWarning)\n",
    "filterwarnings('ignore')"
   ]
  },
  {
   "cell_type": "code",
   "execution_count": 2,
   "id": "a1b62157",
   "metadata": {},
   "outputs": [],
   "source": [
    "# Fashion MNIST veri setini yükleme\n",
    "(X_train, y_train), (X_test, y_test) = fashion_mnist.load_data()"
   ]
  },
  {
   "cell_type": "code",
   "execution_count": 3,
   "id": "0c1d75ba",
   "metadata": {},
   "outputs": [
    {
     "name": "stdout",
     "output_type": "stream",
     "text": [
      "Eğitim seti boyutu : (60000, 28, 28) (60000,)\n",
      "Test seti boyutu : (10000, 28, 28) (10000,)\n"
     ]
    }
   ],
   "source": [
    "print(\"Eğitim seti boyutu :\",X_train.shape,y_train.shape)\n",
    "print(\"Test seti boyutu :\",X_test.shape,y_test.shape)"
   ]
  },
  {
   "cell_type": "code",
   "execution_count": 4,
   "id": "5dc7a712",
   "metadata": {},
   "outputs": [
    {
     "data": {
      "text/plain": [
       "10"
      ]
     },
     "execution_count": 4,
     "metadata": {},
     "output_type": "execute_result"
    }
   ],
   "source": [
    "num_labels = len(np.unique(y_train))\n",
    "num_labels\n",
    "# 10 sınıf mevcut"
   ]
  },
  {
   "cell_type": "code",
   "execution_count": 5,
   "id": "e59e6d82",
   "metadata": {
    "scrolled": true
   },
   "outputs": [
    {
     "data": {
      "text/plain": [
       "<matplotlib.image.AxesImage at 0x18a1d067fd0>"
      ]
     },
     "execution_count": 5,
     "metadata": {},
     "output_type": "execute_result"
    },
    {
     "data": {
      "image/png": "[encoded data removed]",
      "text/plain": [
       "<Figure size 216x216 with 1 Axes>"
      ]
     },
     "metadata": {
      "needs_background": "light"
     },
     "output_type": "display_data"
    }
   ],
   "source": [
    "plt.figure(figsize=(3,3))\n",
    "plt.imshow(X_train[6],cmap = \"gray\")"
   ]
  },
  {
   "cell_type": "code",
   "execution_count": 6,
   "id": "19ed5067",
   "metadata": {},
   "outputs": [
    {
     "data": {
      "image/png": "[encoded data removed]",
      "text/plain": [
       "<Figure size 720x720 with 10 Axes>"
      ]
     },
     "metadata": {
      "needs_background": "light"
     },
     "output_type": "display_data"
    }
   ],
   "source": [
    "def gorsel_getir(data):\n",
    "  plt.figure(figsize=(10,10))\n",
    "  for n in range(10):\n",
    "    idx = np.random.randint(len(X_train))\n",
    "    ax = plt.subplot(5,5,n+1)\n",
    "    plt.imshow(X_train[idx],cmap=\"gray\")\n",
    "    plt.axis('off')\n",
    "gorsel_getir(X_train)"
   ]
  },
  {
   "cell_type": "code",
   "execution_count": 7,
   "id": "2c94192d",
   "metadata": {},
   "outputs": [
    {
     "name": "stdout",
     "output_type": "stream",
     "text": [
      "Class :  0\n",
      "Class :  1\n",
      "Class :  2\n",
      "Class :  3\n",
      "Class :  4\n",
      "Class :  5\n",
      "Class :  6\n",
      "Class :  7\n",
      "Class :  8\n",
      "Class :  9\n"
     ]
    }
   ],
   "source": [
    "for classes in np.unique(y_train):\n",
    "    print(\"Class : \",classes)"
   ]
  },
  {
   "cell_type": "code",
   "execution_count": 8,
   "id": "ef36bec9",
   "metadata": {},
   "outputs": [],
   "source": [
    "## 10 sınıf oldugunu belirtme\n",
    "y_train = to_categorical(y_train,10)\n",
    "y_test = to_categorical(y_test,10)"
   ]
  },
  {
   "cell_type": "code",
   "execution_count": 9,
   "id": "40f92bcf",
   "metadata": {},
   "outputs": [],
   "source": [
    "# Veriyi ölçeklendirme\n",
    "scaler = StandardScaler()\n",
    "X_train_flat = X_train.reshape(-1, 28*28)\n",
    "X_test_flat = X_test.reshape(-1, 28*28)\n",
    "X_train_scaled = scaler.fit_transform(X_train_flat)\n",
    "X_test_scaled = scaler.transform(X_test_flat)"
   ]
  },
  {
   "cell_type": "code",
   "execution_count": 10,
   "id": "b3671d19",
   "metadata": {},
   "outputs": [],
   "source": [
    "# train/test olarak ayırma\n",
    "X_train, X_val, y_train, y_val = train_test_split(X_train_scaled, y_train, test_size=0.3, random_state=42)"
   ]
  },
  {
   "cell_type": "code",
   "execution_count": 11,
   "id": "a84a6c14",
   "metadata": {},
   "outputs": [
    {
     "name": "stdout",
     "output_type": "stream",
     "text": [
      "Epoch 1/10\n",
      "2625/2625 [==============================] - 3s 1ms/step - loss: 0.7943 - accuracy: 0.7198 - val_loss: 0.4758 - val_accuracy: 0.8350\n",
      "Epoch 2/10\n",
      "2625/2625 [==============================] - 3s 953us/step - loss: 0.6222 - accuracy: 0.7748 - val_loss: 0.4423 - val_accuracy: 0.8401\n",
      "Epoch 3/10\n",
      "2625/2625 [==============================] - 3s 961us/step - loss: 0.5930 - accuracy: 0.7805 - val_loss: 0.4283 - val_accuracy: 0.8469\n",
      "Epoch 4/10\n",
      "2625/2625 [==============================] - 3s 959us/step - loss: 0.5713 - accuracy: 0.7899 - val_loss: 0.4258 - val_accuracy: 0.8492\n",
      "Epoch 5/10\n",
      "2625/2625 [==============================] - 3s 959us/step - loss: 0.5569 - accuracy: 0.7941 - val_loss: 0.4124 - val_accuracy: 0.8556\n",
      "Epoch 6/10\n",
      "2625/2625 [==============================] - 3s 953us/step - loss: 0.5513 - accuracy: 0.7972 - val_loss: 0.4111 - val_accuracy: 0.8533\n",
      "Epoch 7/10\n",
      "2625/2625 [==============================] - 3s 999us/step - loss: 0.5382 - accuracy: 0.8016 - val_loss: 0.4150 - val_accuracy: 0.8527\n",
      "Epoch 8/10\n",
      "2625/2625 [==============================] - 3s 1ms/step - loss: 0.5323 - accuracy: 0.8027 - val_loss: 0.4112 - val_accuracy: 0.8549\n"
     ]
    }
   ],
   "source": [
    "def egitim():\n",
    "    model = Sequential()\n",
    "    model.add(Dense(30, activation=\"relu\", input_shape=(28*28,)))  # input_shape belirtiliyor\n",
    "    model.add(Dropout(0.5))\n",
    "    model.add(Dense(10, activation=\"softmax\"))\n",
    "    \n",
    "    model.compile(optimizer=\"adam\", loss=\"categorical_crossentropy\", metrics=['accuracy'])\n",
    "\n",
    "    early_stopping = EarlyStopping(monitor='val_loss', patience=2, restore_best_weights=True)\n",
    "    history = model.fit(X_train, y_train, epochs=10, batch_size=16, validation_data=(X_val, y_val), callbacks=[early_stopping])\n",
    "\n",
    "    return model, history\n",
    "\n",
    "# Modeli eğitin\n",
    "model, history = egitim()"
   ]
  },
  {
   "cell_type": "code",
   "execution_count": 12,
   "id": "2a0458f7",
   "metadata": {},
   "outputs": [
    {
     "name": "stdout",
     "output_type": "stream",
     "text": [
      "Model: \"sequential\"\n",
      "_________________________________________________________________\n",
      " Layer (type)                Output Shape              Param #   \n",
      "=================================================================\n",
      " dense (Dense)               (None, 30)                23550     \n",
      "                                                                 \n",
      " dropout (Dropout)           (None, 30)                0         \n",
      "                                                                 \n",
      " dense_1 (Dense)             (None, 10)                310       \n",
      "                                                                 \n",
      "=================================================================\n",
      "Total params: 23,860\n",
      "Trainable params: 23,860\n",
      "Non-trainable params: 0\n",
      "_________________________________________________________________\n"
     ]
    }
   ],
   "source": [
    "model.summary()"
   ]
  },
  {
   "cell_type": "code",
   "execution_count": 13,
   "id": "a626dc27",
   "metadata": {},
   "outputs": [
    {
     "name": "stdout",
     "output_type": "stream",
     "text": [
      "563/563 [==============================] - 0s 675us/step - loss: 0.4111 - accuracy: 0.8533\n",
      "Test Loss: 0.41112083196640015\n",
      "Test Accuracy: 0.8532778024673462\n"
     ]
    }
   ],
   "source": [
    "loss, accuracy = model.evaluate(X_val, y_val)\n",
    "print(f'Test Loss: {loss}')\n",
    "print(f'Test Accuracy: {accuracy}')"
   ]
  },
  {
   "cell_type": "code",
   "execution_count": 14,
   "id": "8e7d895f",
   "metadata": {},
   "outputs": [
    {
     "data": {
      "image/png": "[encoded data removed]",
      "text/plain": [
       "<Figure size 432x288 with 1 Axes>"
      ]
     },
     "metadata": {
      "needs_background": "light"
     },
     "output_type": "display_data"
    },
    {
     "data": {
      "image/png": "[encoded data removed]",
      "text/plain": [
       "<Figure size 432x288 with 1 Axes>"
      ]
     },
     "metadata": {
      "needs_background": "light"
     },
     "output_type": "display_data"
    }
   ],
   "source": [
    "def grafik1():\n",
    "    plt.plot(history.history['loss'], label='Training Loss')\n",
    "    plt.plot(history.history['val_loss'], label='Validation Loss')\n",
    "    plt.xlabel('Epochs')\n",
    "    plt.ylabel('Loss')\n",
    "    plt.legend()\n",
    "    plt.show()\n",
    "\n",
    "\n",
    "    plt.plot(history.history['accuracy'], label='Training Accuracy')\n",
    "    plt.plot(history.history['val_accuracy'], label='Validation Accuracy')\n",
    "    plt.xlabel('Epochs')\n",
    "    plt.ylabel('Accuracy')\n",
    "    plt.legend()\n",
    "    plt.show()\n",
    "grafik1()"
   ]
  },
  {
   "cell_type": "markdown",
   "id": "1ff7fa36",
   "metadata": {},
   "source": [
    "#### Dropout ve earlystopping olmadan \n",
    "- ek olarak 1.katman 30 nörondan 10'a düşürdüm"
   ]
  },
  {
   "cell_type": "code",
   "execution_count": 15,
   "id": "c6876f49",
   "metadata": {},
   "outputs": [
    {
     "name": "stdout",
     "output_type": "stream",
     "text": [
      "Epoch 1/10\n",
      "2625/2625 [==============================] - 3s 977us/step - loss: 0.5571 - accuracy: 0.8074 - val_loss: 0.4657 - val_accuracy: 0.8363\n",
      "Epoch 2/10\n",
      "2625/2625 [==============================] - 3s 971us/step - loss: 0.4257 - accuracy: 0.8491 - val_loss: 0.4298 - val_accuracy: 0.8496\n",
      "Epoch 3/10\n",
      "2625/2625 [==============================] - 2s 918us/step - loss: 0.3977 - accuracy: 0.8589 - val_loss: 0.4461 - val_accuracy: 0.8417\n",
      "Epoch 4/10\n",
      "2625/2625 [==============================] - 2s 921us/step - loss: 0.3837 - accuracy: 0.8629 - val_loss: 0.4194 - val_accuracy: 0.8524\n",
      "Epoch 5/10\n",
      "2625/2625 [==============================] - 2s 926us/step - loss: 0.3720 - accuracy: 0.8665 - val_loss: 0.4218 - val_accuracy: 0.8534\n",
      "Epoch 6/10\n",
      "2625/2625 [==============================] - 2s 949us/step - loss: 0.3633 - accuracy: 0.8703 - val_loss: 0.4121 - val_accuracy: 0.8586\n",
      "Epoch 7/10\n",
      "2625/2625 [==============================] - 2s 937us/step - loss: 0.3551 - accuracy: 0.8718 - val_loss: 0.4246 - val_accuracy: 0.8529\n",
      "Epoch 8/10\n",
      "2625/2625 [==============================] - 2s 935us/step - loss: 0.3513 - accuracy: 0.8730 - val_loss: 0.4122 - val_accuracy: 0.8589\n",
      "Epoch 9/10\n",
      "2625/2625 [==============================] - 2s 927us/step - loss: 0.3443 - accuracy: 0.8749 - val_loss: 0.4107 - val_accuracy: 0.8612\n",
      "Epoch 10/10\n",
      "2625/2625 [==============================] - 2s 939us/step - loss: 0.3413 - accuracy: 0.8758 - val_loss: 0.4206 - val_accuracy: 0.8559\n"
     ]
    }
   ],
   "source": [
    "model1 = Sequential()\n",
    "model1.add(Dense(10, activation=\"relu\", input_shape=(28*28,)))  # input_shape belirtiliyor\n",
    "model1.add(Dense(10, activation=\"softmax\"))\n",
    "model1.compile(optimizer=\"adam\", loss=\"categorical_crossentropy\", metrics=['accuracy'])\n",
    "history1 = model1.fit(X_train, y_train, epochs=10, batch_size=16, validation_data=(X_val, y_val))\n"
   ]
  },
  {
   "cell_type": "code",
   "execution_count": 16,
   "id": "487940f8",
   "metadata": {},
   "outputs": [
    {
     "name": "stdout",
     "output_type": "stream",
     "text": [
      "563/563 [==============================] - 0s 632us/step - loss: 0.4206 - accuracy: 0.8559\n",
      "Test Loss: 0.42059868574142456\n",
      "Test Accuracy: 0.8559444546699524\n"
     ]
    }
   ],
   "source": [
    "loss, accuracy = model1.evaluate(X_val, y_val)\n",
    "print(f'Test Loss: {loss}')\n",
    "print(f'Test Accuracy: {accuracy}')"
   ]
  },
  {
   "cell_type": "code",
   "execution_count": 17,
   "id": "ce15fa2e",
   "metadata": {},
   "outputs": [
    {
     "data": {
      "image/png": "[encoded data removed]",
      "text/plain": [
       "<Figure size 432x288 with 1 Axes>"
      ]
     },
     "metadata": {
      "needs_background": "light"
     },
     "output_type": "display_data"
    },
    {
     "data": {
      "image/png": "[encoded data removed]",
      "text/plain": [
       "<Figure size 432x288 with 1 Axes>"
      ]
     },
     "metadata": {
      "needs_background": "light"
     },
     "output_type": "display_data"
    }
   ],
   "source": [
    "def grafik2():\n",
    "    plt.plot(history1.history['loss'], label='Training Loss')\n",
    "    plt.plot(history1.history['val_loss'], label='Validation Loss')\n",
    "    plt.xlabel('Epochs')\n",
    "    plt.ylabel('Loss')\n",
    "    plt.legend()\n",
    "    plt.show()\n",
    "\n",
    "\n",
    "    plt.plot(history1.history['accuracy'], label='Training Accuracy')\n",
    "    plt.plot(history1.history['val_accuracy'], label='Validation Accuracy')\n",
    "    plt.xlabel('Epochs')\n",
    "    plt.ylabel('Accuracy')\n",
    "    plt.legend()\n",
    "    plt.show()\n",
    "grafik2()"
   ]
  },
  {
   "cell_type": "markdown",
   "id": "069e02e2",
   "metadata": {},
   "source": [
    "grafik1 ve grafik2 değerlerine bakıldığında :\n",
    "dropout kullanılan ve katmandaki nöron sayısının 30 olduğu model validation değerlerinde daha kararlı sonuçlara sahip.\n",
    "grafik2'ye bakıldığında ise overfitting gözükmekte. Training doğruluk oranı %87'nin üzerine çıkarken, validation doğruluk oranı maksimum %86'ya çıkmış olup epoch sayısı arttıkça doğruluk düşmüştür. Bu da grafik2'de bulunan model1'in validation verileri üzerinde diğer model kadar iyi performans gösteremediğini açıklar."
   ]
  },
  {
   "cell_type": "code",
   "execution_count": 18,
   "id": "58f1e66f",
   "metadata": {},
   "outputs": [
    {
     "data": {
      "text/plain": [
       "1212"
      ]
     },
     "execution_count": 18,
     "metadata": {},
     "output_type": "execute_result"
    }
   ],
   "source": [
    "import random\n",
    "random = random.randint(0,X_val.shape[0])\n",
    "random"
   ]
  },
  {
   "cell_type": "code",
   "execution_count": 19,
   "id": "b95eab41",
   "metadata": {},
   "outputs": [],
   "source": [
    "test_image = X_val[random]"
   ]
  },
  {
   "cell_type": "code",
   "execution_count": 20,
   "id": "f67033f0",
   "metadata": {},
   "outputs": [
    {
     "data": {
      "text/plain": [
       "array([0., 0., 0., 0., 0., 0., 0., 1., 0., 0.], dtype=float32)"
      ]
     },
     "execution_count": 20,
     "metadata": {},
     "output_type": "execute_result"
    }
   ],
   "source": [
    "y_val[random]"
   ]
  },
  {
   "cell_type": "code",
   "execution_count": 21,
   "id": "793010f3",
   "metadata": {},
   "outputs": [
    {
     "data": {
      "text/plain": [
       "<matplotlib.image.AxesImage at 0x18a60a47610>"
      ]
     },
     "execution_count": 21,
     "metadata": {},
     "output_type": "execute_result"
    },
    {
     "data": {
      "image/png": "[encoded data removed]",
      "text/plain": [
       "<Figure size 432x288 with 1 Axes>"
      ]
     },
     "metadata": {
      "needs_background": "light"
     },
     "output_type": "display_data"
    }
   ],
   "source": [
    "plt.imshow(test_image.reshape(28,28),cmap='gray')"
   ]
  },
  {
   "cell_type": "code",
   "execution_count": 22,
   "id": "99732c62",
   "metadata": {},
   "outputs": [
    {
     "name": "stdout",
     "output_type": "stream",
     "text": [
      "1/1 [==============================] - 0s 47ms/step\n"
     ]
    },
    {
     "data": {
      "text/plain": [
       "array([[2.6811307e-12, 4.7919150e-21, 1.3321982e-17, 2.0343748e-11,\n",
       "        1.1658773e-14, 2.8131732e-03, 3.3193375e-14, 8.9952207e-01,\n",
       "        6.1133654e-10, 9.7664781e-02]], dtype=float32)"
      ]
     },
     "execution_count": 22,
     "metadata": {},
     "output_type": "execute_result"
    }
   ],
   "source": [
    "test_data = X_val[random].reshape(1, 28*28)\n",
    "pred = model.predict(test_data)\n",
    "pred"
   ]
  },
  {
   "cell_type": "code",
   "execution_count": 23,
   "id": "06fc76ad",
   "metadata": {},
   "outputs": [
    {
     "name": "stdout",
     "output_type": "stream",
     "text": [
      "Tahmin sınıfı :  7\n",
      "Gerçek sınıf : 7\n"
     ]
    }
   ],
   "source": [
    "predicted_classes = np.argmax(pred)\n",
    "print(\"Tahmin sınıfı : \",predicted_classes)\n",
    "print(\"Gerçek sınıf :\",y_val[random].argmax())"
   ]
  },
  {
   "cell_type": "code",
   "execution_count": null,
   "id": "82a2add2",
   "metadata": {},
   "outputs": [],
   "source": []
  }
 ],
 "metadata": {
  "kernelspec": {
   "display_name": "Python 3 (ipykernel)",
   "language": "python",
   "name": "python3"
  },
  "language_info": {
   "codemirror_mode": {
    "name": "ipython",
    "version": 3
   },
   "file_extension": ".py",
   "mimetype": "text/x-python",
   "name": "python",
   "nbconvert_exporter": "python",
   "pygments_lexer": "ipython3",
   "version": "3.9.12"
  }
 },
 "nbformat": 4,
 "nbformat_minor": 5
}
