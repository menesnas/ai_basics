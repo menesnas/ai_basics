{
 "cells": [
  {
   "cell_type": "markdown",
   "id": "1aed418e",
   "metadata": {},
   "source": [
    "### Lineer regresyon problemleri genellikle iki degisken arasindaki iliskiyi modellemek icin kullanilan temel bir istatistiksel yöntemdir. Aralarindaki iliskiler dogrusal olup temel formul asagidaki gibidir : \n",
    "- Y = B0 + B1 . X + E               ---> E : Epsilon (hata degeri)\n",
    "- Amac B katsayilarini en iyi sekilde tahmin ederek gercek dogruyu en iyi temsil eden denklemi bulmaktir."
   ]
  },
  {
   "cell_type": "code",
   "execution_count": 2,
   "id": "c3f760b7",
   "metadata": {},
   "outputs": [],
   "source": [
    "import numpy as np\n",
    "import pandas as pd\n",
    "import matplotlib.pyplot as plt\n",
    "import seaborn as sbn\n",
    "from sklearn.linear_model import LinearRegression"
   ]
  },
  {
   "cell_type": "code",
   "execution_count": 3,
   "id": "9106679a",
   "metadata": {},
   "outputs": [
    {
     "data": {
      "text/html": [
       "<div>\n",
       "<style scoped>\n",
       "    .dataframe tbody tr th:only-of-type {\n",
       "        vertical-align: middle;\n",
       "    }\n",
       "\n",
       "    .dataframe tbody tr th {\n",
       "        vertical-align: top;\n",
       "    }\n",
       "\n",
       "    .dataframe thead th {\n",
       "        text-align: right;\n",
       "    }\n",
       "</style>\n",
       "<table border=\"1\" class=\"dataframe\">\n",
       "  <thead>\n",
       "    <tr style=\"text-align: right;\">\n",
       "      <th></th>\n",
       "      <th>exp(in months)</th>\n",
       "      <th>salary(in thousands)</th>\n",
       "    </tr>\n",
       "  </thead>\n",
       "  <tbody>\n",
       "    <tr>\n",
       "      <th>0</th>\n",
       "      <td>18.290293</td>\n",
       "      <td>16.521825</td>\n",
       "    </tr>\n",
       "    <tr>\n",
       "      <th>1</th>\n",
       "      <td>17.023407</td>\n",
       "      <td>11.666234</td>\n",
       "    </tr>\n",
       "    <tr>\n",
       "      <th>2</th>\n",
       "      <td>26.343613</td>\n",
       "      <td>23.167255</td>\n",
       "    </tr>\n",
       "    <tr>\n",
       "      <th>3</th>\n",
       "      <td>19.105834</td>\n",
       "      <td>20.877145</td>\n",
       "    </tr>\n",
       "    <tr>\n",
       "      <th>4</th>\n",
       "      <td>27.742516</td>\n",
       "      <td>23.166236</td>\n",
       "    </tr>\n",
       "  </tbody>\n",
       "</table>\n",
       "</div>"
      ],
      "text/plain": [
       "   exp(in months)  salary(in thousands)\n",
       "0       18.290293             16.521825\n",
       "1       17.023407             11.666234\n",
       "2       26.343613             23.167255\n",
       "3       19.105834             20.877145\n",
       "4       27.742516             23.166236"
      ]
     },
     "execution_count": 3,
     "metadata": {},
     "output_type": "execute_result"
    }
   ],
   "source": [
    "data = pd.read_csv(\"salary-experience.csv\")\n",
    "data.head()"
   ]
  },
  {
   "cell_type": "code",
   "execution_count": 13,
   "id": "3e2873fa",
   "metadata": {},
   "outputs": [
    {
     "name": "stdout",
     "output_type": "stream",
     "text": [
      "NaN deger var mi? Varsa kac tane :\n",
      " exp(in months)          0\n",
      "salary(in thousands)    0\n",
      "dtype: int64 ---------\n",
      "\n",
      "yinelenen veri :  0 \n",
      "\n"
     ]
    }
   ],
   "source": [
    "print(\"NaN deger var mi? Varsa kac tane :\\n\", data.isna().sum(),\"---------\\n\")\n",
    "print(\"yinelenen veri : \",data.duplicated().sum(),\"\\n\")"
   ]
  },
  {
   "cell_type": "code",
   "execution_count": 15,
   "id": "1d5d60a3",
   "metadata": {},
   "outputs": [
    {
     "data": {
      "text/html": [
       "<div>\n",
       "<style scoped>\n",
       "    .dataframe tbody tr th:only-of-type {\n",
       "        vertical-align: middle;\n",
       "    }\n",
       "\n",
       "    .dataframe tbody tr th {\n",
       "        vertical-align: top;\n",
       "    }\n",
       "\n",
       "    .dataframe thead th {\n",
       "        text-align: right;\n",
       "    }\n",
       "</style>\n",
       "<table border=\"1\" class=\"dataframe\">\n",
       "  <thead>\n",
       "    <tr style=\"text-align: right;\">\n",
       "      <th></th>\n",
       "      <th>exp(in months)</th>\n",
       "      <th>salary(in thousands)</th>\n",
       "    </tr>\n",
       "  </thead>\n",
       "  <tbody>\n",
       "    <tr>\n",
       "      <th>count</th>\n",
       "      <td>1000.000000</td>\n",
       "      <td>1000.000000</td>\n",
       "    </tr>\n",
       "    <tr>\n",
       "      <th>mean</th>\n",
       "      <td>26.157825</td>\n",
       "      <td>26.722597</td>\n",
       "    </tr>\n",
       "    <tr>\n",
       "      <th>std</th>\n",
       "      <td>8.717091</td>\n",
       "      <td>8.844761</td>\n",
       "    </tr>\n",
       "    <tr>\n",
       "      <th>min</th>\n",
       "      <td>0.697594</td>\n",
       "      <td>-1.276342</td>\n",
       "    </tr>\n",
       "    <tr>\n",
       "      <th>25%</th>\n",
       "      <td>20.073600</td>\n",
       "      <td>20.531008</td>\n",
       "    </tr>\n",
       "    <tr>\n",
       "      <th>50%</th>\n",
       "      <td>25.875225</td>\n",
       "      <td>26.745576</td>\n",
       "    </tr>\n",
       "    <tr>\n",
       "      <th>75%</th>\n",
       "      <td>32.406986</td>\n",
       "      <td>32.615753</td>\n",
       "    </tr>\n",
       "    <tr>\n",
       "      <th>max</th>\n",
       "      <td>49.463222</td>\n",
       "      <td>55.297016</td>\n",
       "    </tr>\n",
       "  </tbody>\n",
       "</table>\n",
       "</div>"
      ],
      "text/plain": [
       "       exp(in months)  salary(in thousands)\n",
       "count     1000.000000           1000.000000\n",
       "mean        26.157825             26.722597\n",
       "std          8.717091              8.844761\n",
       "min          0.697594             -1.276342\n",
       "25%         20.073600             20.531008\n",
       "50%         25.875225             26.745576\n",
       "75%         32.406986             32.615753\n",
       "max         49.463222             55.297016"
      ]
     },
     "execution_count": 15,
     "metadata": {},
     "output_type": "execute_result"
    }
   ],
   "source": [
    "data.describe()"
   ]
  },
  {
   "cell_type": "code",
   "execution_count": 16,
   "id": "7566ae01",
   "metadata": {},
   "outputs": [
    {
     "data": {
      "image/png": "[encoded data removed]",
      "text/plain": [
       "<Figure size 432x288 with 1 Axes>"
      ]
     },
     "metadata": {
      "needs_background": "light"
     },
     "output_type": "display_data"
    }
   ],
   "source": [
    "sbn.histplot(x=data[\"salary(in thousands)\"],y=data[\"exp(in months)\"])\n",
    "plt.show()"
   ]
  },
  {
   "cell_type": "code",
   "execution_count": 17,
   "id": "a644cae0",
   "metadata": {},
   "outputs": [
    {
     "data": {
      "image/png": "[encoded data removed]",
      "text/plain": [
       "<Figure size 432x288 with 1 Axes>"
      ]
     },
     "metadata": {
      "needs_background": "light"
     },
     "output_type": "display_data"
    }
   ],
   "source": [
    "sbn.histplot(x=data[\"salary(in thousands)\"],y=data[\"exp(in months)\"])\n",
    "x = np.linspace(-1,55,100)\n",
    "y = 1 * x + 1\n",
    "plt.plot(x,y,color='red')\n",
    "plt.show()\n",
    "\n",
    "### Verilerin dagilimi ve ornek teskil etmesi bakimindan cizdirilen y = x + 1 dogrusu"
   ]
  },
  {
   "cell_type": "markdown",
   "id": "9566cefe",
   "metadata": {},
   "source": [
    "### Linear Regression model"
   ]
  },
  {
   "cell_type": "code",
   "execution_count": 18,
   "id": "95bca551",
   "metadata": {},
   "outputs": [],
   "source": [
    "x = data[\"exp(in months)\"].values.reshape(-1,1)\n",
    "y = data[\"salary(in thousands)\"]\n",
    "reg_model = LinearRegression().fit(x,y)"
   ]
  },
  {
   "cell_type": "code",
   "execution_count": 19,
   "id": "ff6c81f8",
   "metadata": {},
   "outputs": [
    {
     "data": {
      "text/plain": [
       "0.6576711967581765"
      ]
     },
     "execution_count": 19,
     "metadata": {},
     "output_type": "execute_result"
    }
   ],
   "source": [
    "reg_model.score(x,y)"
   ]
  },
  {
   "cell_type": "code",
   "execution_count": 20,
   "id": "4af2d818",
   "metadata": {},
   "outputs": [
    {
     "data": {
      "text/plain": [
       "array([0.82284666])"
      ]
     },
     "execution_count": 20,
     "metadata": {},
     "output_type": "execute_result"
    }
   ],
   "source": [
    "reg_model.coef_\n",
    "\n",
    "# b0 * x + b1 \n",
    "# b0 -> coef -> eğim"
   ]
  },
  {
   "cell_type": "code",
   "execution_count": 21,
   "id": "41f2d27d",
   "metadata": {},
   "outputs": [
    {
     "data": {
      "text/plain": [
       "5.198718564988564"
      ]
     },
     "execution_count": 21,
     "metadata": {},
     "output_type": "execute_result"
    }
   ],
   "source": [
    "reg_model.intercept_\n",
    "\n",
    "# b1 * x + b1 \n",
    "# b1 -> intercept -> bağımsız değişkenlerin 0 olduğu yani kısaca y eksenini kestiği nokta"
   ]
  },
  {
   "cell_type": "markdown",
   "id": "82ee854a",
   "metadata": {},
   "source": [
    "##### Model egitiminin kisa aciklamasi\n",
    "- reg_model = LinearRegression().fit(x,y) ile lineer model egitilir. Katsayilar hesaplanir ve model y degerlerini x'ten tahmin edebilir hale gelir.\n",
    "- reg_model.score(x,y) ile R² metrigi uzerinden basari orani hesaplanir. (1 > R² > 0)"
   ]
  },
  {
   "cell_type": "code",
   "execution_count": null,
   "id": "e5229b6f",
   "metadata": {},
   "outputs": [],
   "source": []
  }
 ],
 "metadata": {
  "kernelspec": {
   "display_name": "Python 3 (ipykernel)",
   "language": "python",
   "name": "python3"
  },
  "language_info": {
   "codemirror_mode": {
    "name": "ipython",
    "version": 3
   },
   "file_extension": ".py",
   "mimetype": "text/x-python",
   "name": "python",
   "nbconvert_exporter": "python",
   "pygments_lexer": "ipython3",
   "version": "3.9.12"
  }
 },
 "nbformat": 4,
 "nbformat_minor": 5
}
